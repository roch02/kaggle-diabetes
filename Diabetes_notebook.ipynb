{
 "cells": [
  {
   "cell_type": "markdown",
   "metadata": {},
   "source": [
    "# Pima Indians Diabetes dataset from Kaggle\n",
    "\n",
    "\n",
    "### Data & Objective\n",
    "\n",
    "In this Kernel I present a short analysis of the \"Pima Indians Diabetes Database\" provided by UCI Machine Learning in Kaggle, which is originally from the National Institute of Diabetes and Digestive and Kidney Diseases. You can download it from [here](https://www.kaggle.com/uciml/pima-indians-diabetes-database/data). All patients from this dataset are females at least 21 years old of Pima Indian heritage.\n",
    "\n",
    "The objective is to predict the onset of diabetes based on diagnostic measures present in the dataset provided.\n",
    "\n",
    "This Kernel is devided into 3 parts:\n",
    "\n",
    "### 1. First Insights\n",
    "  Get to know the data.\n",
    "  - How many samples and features do we have?\n",
    "  - What type of features do we have? \n",
    "  - How are they distributed?\n",
    "  - Do we have null values?\n",
    "\n",
    "### 2. Model creation & Validation\n",
    "   - Before model creation first we need to separate into features and labels. Then check if the features need some pre-processing. For example for this dataset some Scaling could be useful.\n",
    "   - Divide dataset into Train/Test. Test set will not be used for model creation keep it aside!! Train set will be used for training and validation using the k-fold cross validation technique.\n",
    "   - I will use two classifiers: \n",
    "     - **Random Forest**\n",
    "     - **Logistic Regression**  \n",
    "\n",
    "### 3. Test final model with unseen data\n",
    " Once you have chosen the final model in step **2.** we will use that same model to predict the labels of the Test set we kept aside. This will allow to evaluate if the model we created is not overfit and can get also good results for unseen data.\n",
    "\n",
    "\n",
    "\n"
   ]
  },
  {
   "cell_type": "code",
   "execution_count": 62,
   "metadata": {},
   "outputs": [],
   "source": [
    "import pandas as pd\n",
    "import numpy as np\n",
    "from collections import Counter\n",
    "import matplotlib.pyplot as plt\n",
    "import seaborn as sns\n",
    "from sklearn.preprocessing import StandardScaler\n",
    "from sklearn.model_selection import train_test_split\n",
    "from sklearn.ensemble import RandomForestClassifier\n",
    "from sklearn.linear_model import LogisticRegression\n",
    "from sklearn.model_selection import cross_val_score, cross_val_predict\n",
    "from sklearn import cross_validation\n",
    "from sklearn.model_selection import KFold\n",
    "from sklearn.metrics import classification_report, confusion_matrix\n",
    "\n",
    "%matplotlib inline"
   ]
  },
  {
   "cell_type": "markdown",
   "metadata": {},
   "source": [
    "### 1. First Insights"
   ]
  },
  {
   "cell_type": "code",
   "execution_count": 63,
   "metadata": {},
   "outputs": [
    {
     "data": {
      "text/html": [
       "<div>\n",
       "<style scoped>\n",
       "    .dataframe tbody tr th:only-of-type {\n",
       "        vertical-align: middle;\n",
       "    }\n",
       "\n",
       "    .dataframe tbody tr th {\n",
       "        vertical-align: top;\n",
       "    }\n",
       "\n",
       "    .dataframe thead th {\n",
       "        text-align: right;\n",
       "    }\n",
       "</style>\n",
       "<table border=\"1\" class=\"dataframe\">\n",
       "  <thead>\n",
       "    <tr style=\"text-align: right;\">\n",
       "      <th></th>\n",
       "      <th>Pregnancies</th>\n",
       "      <th>Glucose</th>\n",
       "      <th>BloodPressure</th>\n",
       "      <th>SkinThickness</th>\n",
       "      <th>Insulin</th>\n",
       "      <th>BMI</th>\n",
       "      <th>DiabetesPedigreeFunction</th>\n",
       "      <th>Age</th>\n",
       "      <th>Outcome</th>\n",
       "    </tr>\n",
       "  </thead>\n",
       "  <tbody>\n",
       "    <tr>\n",
       "      <th>0</th>\n",
       "      <td>6</td>\n",
       "      <td>148</td>\n",
       "      <td>72</td>\n",
       "      <td>35</td>\n",
       "      <td>0</td>\n",
       "      <td>33.6</td>\n",
       "      <td>0.627</td>\n",
       "      <td>50</td>\n",
       "      <td>1</td>\n",
       "    </tr>\n",
       "    <tr>\n",
       "      <th>1</th>\n",
       "      <td>1</td>\n",
       "      <td>85</td>\n",
       "      <td>66</td>\n",
       "      <td>29</td>\n",
       "      <td>0</td>\n",
       "      <td>26.6</td>\n",
       "      <td>0.351</td>\n",
       "      <td>31</td>\n",
       "      <td>0</td>\n",
       "    </tr>\n",
       "    <tr>\n",
       "      <th>2</th>\n",
       "      <td>8</td>\n",
       "      <td>183</td>\n",
       "      <td>64</td>\n",
       "      <td>0</td>\n",
       "      <td>0</td>\n",
       "      <td>23.3</td>\n",
       "      <td>0.672</td>\n",
       "      <td>32</td>\n",
       "      <td>1</td>\n",
       "    </tr>\n",
       "    <tr>\n",
       "      <th>3</th>\n",
       "      <td>1</td>\n",
       "      <td>89</td>\n",
       "      <td>66</td>\n",
       "      <td>23</td>\n",
       "      <td>94</td>\n",
       "      <td>28.1</td>\n",
       "      <td>0.167</td>\n",
       "      <td>21</td>\n",
       "      <td>0</td>\n",
       "    </tr>\n",
       "    <tr>\n",
       "      <th>4</th>\n",
       "      <td>0</td>\n",
       "      <td>137</td>\n",
       "      <td>40</td>\n",
       "      <td>35</td>\n",
       "      <td>168</td>\n",
       "      <td>43.1</td>\n",
       "      <td>2.288</td>\n",
       "      <td>33</td>\n",
       "      <td>1</td>\n",
       "    </tr>\n",
       "  </tbody>\n",
       "</table>\n",
       "</div>"
      ],
      "text/plain": [
       "   Pregnancies  Glucose  BloodPressure  SkinThickness  Insulin   BMI  \\\n",
       "0            6      148             72             35        0  33.6   \n",
       "1            1       85             66             29        0  26.6   \n",
       "2            8      183             64              0        0  23.3   \n",
       "3            1       89             66             23       94  28.1   \n",
       "4            0      137             40             35      168  43.1   \n",
       "\n",
       "   DiabetesPedigreeFunction  Age  Outcome  \n",
       "0                     0.627   50        1  \n",
       "1                     0.351   31        0  \n",
       "2                     0.672   32        1  \n",
       "3                     0.167   21        0  \n",
       "4                     2.288   33        1  "
      ]
     },
     "execution_count": 63,
     "metadata": {},
     "output_type": "execute_result"
    }
   ],
   "source": [
    "df = pd.read_csv(\"diabetes.csv\")\n",
    "df.head()"
   ]
  },
  {
   "cell_type": "code",
   "execution_count": 64,
   "metadata": {},
   "outputs": [
    {
     "data": {
      "text/plain": [
       "(768, 9)"
      ]
     },
     "execution_count": 64,
     "metadata": {},
     "output_type": "execute_result"
    }
   ],
   "source": [
    "df.shape"
   ]
  },
  {
   "cell_type": "code",
   "execution_count": 65,
   "metadata": {},
   "outputs": [
    {
     "data": {
      "text/html": [
       "<div>\n",
       "<style scoped>\n",
       "    .dataframe tbody tr th:only-of-type {\n",
       "        vertical-align: middle;\n",
       "    }\n",
       "\n",
       "    .dataframe tbody tr th {\n",
       "        vertical-align: top;\n",
       "    }\n",
       "\n",
       "    .dataframe thead th {\n",
       "        text-align: right;\n",
       "    }\n",
       "</style>\n",
       "<table border=\"1\" class=\"dataframe\">\n",
       "  <thead>\n",
       "    <tr style=\"text-align: right;\">\n",
       "      <th></th>\n",
       "      <th>Pregnancies</th>\n",
       "      <th>Glucose</th>\n",
       "      <th>BloodPressure</th>\n",
       "      <th>SkinThickness</th>\n",
       "      <th>Insulin</th>\n",
       "      <th>BMI</th>\n",
       "      <th>DiabetesPedigreeFunction</th>\n",
       "      <th>Age</th>\n",
       "      <th>Outcome</th>\n",
       "    </tr>\n",
       "  </thead>\n",
       "  <tbody>\n",
       "    <tr>\n",
       "      <th>count</th>\n",
       "      <td>768.000000</td>\n",
       "      <td>768.000000</td>\n",
       "      <td>768.000000</td>\n",
       "      <td>768.000000</td>\n",
       "      <td>768.000000</td>\n",
       "      <td>768.000000</td>\n",
       "      <td>768.000000</td>\n",
       "      <td>768.000000</td>\n",
       "      <td>768.000000</td>\n",
       "    </tr>\n",
       "    <tr>\n",
       "      <th>mean</th>\n",
       "      <td>3.845052</td>\n",
       "      <td>120.894531</td>\n",
       "      <td>69.105469</td>\n",
       "      <td>20.536458</td>\n",
       "      <td>79.799479</td>\n",
       "      <td>31.992578</td>\n",
       "      <td>0.471876</td>\n",
       "      <td>33.240885</td>\n",
       "      <td>0.348958</td>\n",
       "    </tr>\n",
       "    <tr>\n",
       "      <th>std</th>\n",
       "      <td>3.369578</td>\n",
       "      <td>31.972618</td>\n",
       "      <td>19.355807</td>\n",
       "      <td>15.952218</td>\n",
       "      <td>115.244002</td>\n",
       "      <td>7.884160</td>\n",
       "      <td>0.331329</td>\n",
       "      <td>11.760232</td>\n",
       "      <td>0.476951</td>\n",
       "    </tr>\n",
       "    <tr>\n",
       "      <th>min</th>\n",
       "      <td>0.000000</td>\n",
       "      <td>0.000000</td>\n",
       "      <td>0.000000</td>\n",
       "      <td>0.000000</td>\n",
       "      <td>0.000000</td>\n",
       "      <td>0.000000</td>\n",
       "      <td>0.078000</td>\n",
       "      <td>21.000000</td>\n",
       "      <td>0.000000</td>\n",
       "    </tr>\n",
       "    <tr>\n",
       "      <th>25%</th>\n",
       "      <td>1.000000</td>\n",
       "      <td>99.000000</td>\n",
       "      <td>62.000000</td>\n",
       "      <td>0.000000</td>\n",
       "      <td>0.000000</td>\n",
       "      <td>27.300000</td>\n",
       "      <td>0.243750</td>\n",
       "      <td>24.000000</td>\n",
       "      <td>0.000000</td>\n",
       "    </tr>\n",
       "    <tr>\n",
       "      <th>50%</th>\n",
       "      <td>3.000000</td>\n",
       "      <td>117.000000</td>\n",
       "      <td>72.000000</td>\n",
       "      <td>23.000000</td>\n",
       "      <td>30.500000</td>\n",
       "      <td>32.000000</td>\n",
       "      <td>0.372500</td>\n",
       "      <td>29.000000</td>\n",
       "      <td>0.000000</td>\n",
       "    </tr>\n",
       "    <tr>\n",
       "      <th>75%</th>\n",
       "      <td>6.000000</td>\n",
       "      <td>140.250000</td>\n",
       "      <td>80.000000</td>\n",
       "      <td>32.000000</td>\n",
       "      <td>127.250000</td>\n",
       "      <td>36.600000</td>\n",
       "      <td>0.626250</td>\n",
       "      <td>41.000000</td>\n",
       "      <td>1.000000</td>\n",
       "    </tr>\n",
       "    <tr>\n",
       "      <th>max</th>\n",
       "      <td>17.000000</td>\n",
       "      <td>199.000000</td>\n",
       "      <td>122.000000</td>\n",
       "      <td>99.000000</td>\n",
       "      <td>846.000000</td>\n",
       "      <td>67.100000</td>\n",
       "      <td>2.420000</td>\n",
       "      <td>81.000000</td>\n",
       "      <td>1.000000</td>\n",
       "    </tr>\n",
       "  </tbody>\n",
       "</table>\n",
       "</div>"
      ],
      "text/plain": [
       "       Pregnancies     Glucose  BloodPressure  SkinThickness     Insulin  \\\n",
       "count   768.000000  768.000000     768.000000     768.000000  768.000000   \n",
       "mean      3.845052  120.894531      69.105469      20.536458   79.799479   \n",
       "std       3.369578   31.972618      19.355807      15.952218  115.244002   \n",
       "min       0.000000    0.000000       0.000000       0.000000    0.000000   \n",
       "25%       1.000000   99.000000      62.000000       0.000000    0.000000   \n",
       "50%       3.000000  117.000000      72.000000      23.000000   30.500000   \n",
       "75%       6.000000  140.250000      80.000000      32.000000  127.250000   \n",
       "max      17.000000  199.000000     122.000000      99.000000  846.000000   \n",
       "\n",
       "              BMI  DiabetesPedigreeFunction         Age     Outcome  \n",
       "count  768.000000                768.000000  768.000000  768.000000  \n",
       "mean    31.992578                  0.471876   33.240885    0.348958  \n",
       "std      7.884160                  0.331329   11.760232    0.476951  \n",
       "min      0.000000                  0.078000   21.000000    0.000000  \n",
       "25%     27.300000                  0.243750   24.000000    0.000000  \n",
       "50%     32.000000                  0.372500   29.000000    0.000000  \n",
       "75%     36.600000                  0.626250   41.000000    1.000000  \n",
       "max     67.100000                  2.420000   81.000000    1.000000  "
      ]
     },
     "execution_count": 65,
     "metadata": {},
     "output_type": "execute_result"
    }
   ],
   "source": [
    "df.describe()"
   ]
  },
  {
   "cell_type": "code",
   "execution_count": 66,
   "metadata": {},
   "outputs": [
    {
     "name": "stdout",
     "output_type": "stream",
     "text": [
      "<class 'pandas.core.frame.DataFrame'>\n",
      "RangeIndex: 768 entries, 0 to 767\n",
      "Data columns (total 9 columns):\n",
      "Pregnancies                 768 non-null int64\n",
      "Glucose                     768 non-null int64\n",
      "BloodPressure               768 non-null int64\n",
      "SkinThickness               768 non-null int64\n",
      "Insulin                     768 non-null int64\n",
      "BMI                         768 non-null float64\n",
      "DiabetesPedigreeFunction    768 non-null float64\n",
      "Age                         768 non-null int64\n",
      "Outcome                     768 non-null int64\n",
      "dtypes: float64(2), int64(7)\n",
      "memory usage: 54.1 KB\n"
     ]
    },
    {
     "data": {
      "text/plain": [
       "Index(['Pregnancies', 'Glucose', 'BloodPressure', 'SkinThickness', 'Insulin',\n",
       "       'BMI', 'DiabetesPedigreeFunction', 'Age', 'Outcome'],\n",
       "      dtype='object')"
      ]
     },
     "execution_count": 66,
     "metadata": {},
     "output_type": "execute_result"
    }
   ],
   "source": [
    "df.info()\n",
    "df.columns"
   ]
  },
  {
   "cell_type": "code",
   "execution_count": 67,
   "metadata": {},
   "outputs": [
    {
     "data": {
      "text/plain": [
       "Counter({0: 500, 1: 268})"
      ]
     },
     "execution_count": 67,
     "metadata": {},
     "output_type": "execute_result"
    }
   ],
   "source": [
    "Counter(df.Outcome)"
   ]
  },
  {
   "cell_type": "code",
   "execution_count": 68,
   "metadata": {},
   "outputs": [
    {
     "data": {
      "text/plain": [
       "<matplotlib.axes._subplots.AxesSubplot at 0x61f452748>"
      ]
     },
     "execution_count": 68,
     "metadata": {},
     "output_type": "execute_result"
    },
    {
     "data": {
      "image/png": "[encoded data removed]",
      "text/plain": [
       "<matplotlib.figure.Figure at 0x61f3ee898>"
      ]
     },
     "metadata": {},
     "output_type": "display_data"
    }
   ],
   "source": [
    "sns.countplot(x='Outcome',data=df)"
   ]
  },
  {
   "cell_type": "code",
   "execution_count": 69,
   "metadata": {},
   "outputs": [
    {
     "data": {
      "image/png": "[encoded data removed]",
      "text/plain": [
       "<matplotlib.figure.Figure at 0x61f8f01d0>"
      ]
     },
     "metadata": {},
     "output_type": "display_data"
    }
   ],
   "source": [
    "df_1 = df[df.Outcome == 1]\n",
    "df_0 = df[df.Outcome == 0]\n",
    "columns = df.columns[:-1]\n",
    "\n",
    "plt.subplots(figsize=(16,10))\n",
    "number_features = len(columns)\n",
    "for i,j,  in zip(columns, range(number_features) ):\n",
    "    plt.subplot(3,3,j+1)\n",
    "    plt.subplots_adjust(wspace=0.5,hspace=0.5)\n",
    "    df_0[i].hist(bins=20, color='b', edgecolor='black')\n",
    "    df_1[i].hist(bins=20, color='r', edgecolor='black')\n",
    "    plt.title(i)"
   ]
  },
  {
   "cell_type": "markdown",
   "metadata": {},
   "source": [
    "### 2. Model creation"
   ]
  },
  {
   "cell_type": "code",
   "execution_count": 70,
   "metadata": {},
   "outputs": [],
   "source": [
    "# get features and labels\n",
    "X = df.iloc[:,:-1]\n",
    "labels= df.iloc[:,-1]"
   ]
  },
  {
   "cell_type": "code",
   "execution_count": 71,
   "metadata": {},
   "outputs": [],
   "source": [
    "# Standarize features\n",
    "X = StandardScaler().fit_transform(X)"
   ]
  },
  {
   "cell_type": "code",
   "execution_count": 72,
   "metadata": {},
   "outputs": [],
   "source": [
    "# Divide Data into train and test set  (test set will only be used in section 3.)\n",
    "X_train, X_test, y_train, y_test = train_test_split(X, labels, test_size=0.25, random_state=0, stratify=labels)"
   ]
  },
  {
   "cell_type": "code",
   "execution_count": 73,
   "metadata": {},
   "outputs": [],
   "source": [
    "# reset y_train index\n",
    "y_train= y_train.reset_index(drop=True)"
   ]
  },
  {
   "cell_type": "code",
   "execution_count": 74,
   "metadata": {},
   "outputs": [
    {
     "name": "stdout",
     "output_type": "stream",
     "text": [
      "0.6896551724137931 0.48484848484848486 0.7710843373493976\n",
      "0.6956521739130435 0.46 0.8769230769230769\n",
      "0.8 0.5952380952380952 0.9178082191780822\n",
      "0.7217391304347827 0.5 0.84\n",
      "0.7478260869565218 0.6388888888888888 0.7974683544303798\n",
      "_________________________________\n",
      "Accuracy: 0.7309745127436281 +/- 0.04022124124533731\n",
      "Sensitivity: 0.5357950937950938 +/- 0.06896889582088347\n",
      "Specificity: 0.8406567975761872 +/- 0.05286508318215896\n"
     ]
    }
   ],
   "source": [
    "# Random Forest\n",
    "\n",
    "RF_model = RandomForestClassifier(n_estimators=600, random_state=123456, class_weight=\"balanced\")\n",
    "\n",
    "acc=[]\n",
    "sen=[]\n",
    "spe=[]\n",
    "kf = KFold(n_splits=5, random_state= 123)\n",
    "kf.get_n_splits(X_train)\n",
    "\n",
    "for train_index, test_index in kf.split(X_train):\n",
    "    Features_train, Features_test = X_train[train_index], X_train[test_index]\n",
    "    Labels_train, Labels_test = y_train[train_index], y_train[test_index]\n",
    "\n",
    "    RF_model.fit(Features_train, Labels_train)\n",
    "    cm = confusion_matrix(Labels_test, RF_model.predict(Features_test))\n",
    "    tn, fp, fn, tp = confusion_matrix(Labels_test, RF_model.predict(Features_test)).ravel()\n",
    "    sensitivity = tp/(tp+fn)\n",
    "    specificity  = tn/(tn+fp)\n",
    "    accuracy = (tp+tn)/(tp+fp+tn+fn)\n",
    "    acc.append(accuracy)\n",
    "    sen.append(sensitivity)\n",
    "    spe.append(specificity)\n",
    "    print(accuracy, sensitivity, specificity)\n",
    "\n",
    "global_acc = np.mean(acc)\n",
    "acc_std = np.std(acc)\n",
    "global_sen = np.mean(sen)\n",
    "sen_std = np.std(sen)\n",
    "global_spe = np.mean(spe)\n",
    "spe_std = np.std(spe)\n",
    "\n",
    "print(\"_________________________________\")\n",
    "print('Accuracy:', global_acc, \"+/-\", acc_std)\n",
    "print('Sensitivity:', global_sen, \"+/-\", sen_std)\n",
    "print('Specificity:', global_spe, \"+/-\", spe_std)"
   ]
  },
  {
   "cell_type": "code",
   "execution_count": 75,
   "metadata": {},
   "outputs": [
    {
     "name": "stdout",
     "output_type": "stream",
     "text": [
      "\n",
      " C=  0.001\n",
      "0.6982758620689655 0.7575757575757576 0.6746987951807228\n",
      "0.6782608695652174 0.72 0.6461538461538462\n",
      "0.7565217391304347 0.7142857142857143 0.7808219178082192\n",
      "0.7304347826086957 0.75 0.72\n",
      "0.7304347826086957 0.8055555555555556 0.6962025316455697\n",
      "_________________________________\n",
      "Accuracy: 0.7187856071964018 +/- 0.027416514126286214\n",
      "Sensitivity: 0.7494834054834054 +/- 0.0326128432079812\n",
      "Specificity: 0.7035754181576716 +/- 0.04565576488992617 \n",
      "\n",
      "\n",
      " C=  0.01\n",
      "0.6982758620689655 0.7272727272727273 0.6867469879518072\n",
      "0.6956521739130435 0.72 0.676923076923077\n",
      "0.8 0.7380952380952381 0.8356164383561644\n",
      "0.7304347826086957 0.7 0.7466666666666667\n",
      "0.7391304347826086 0.8333333333333334 0.6962025316455697\n",
      "_________________________________\n",
      "Accuracy: 0.7326986506746627 +/- 0.03777124404168898\n",
      "Sensitivity: 0.7437402597402598 +/- 0.04649037531678206\n",
      "Specificity: 0.728431140308657 +/- 0.05873764535097927 \n",
      "\n",
      "\n",
      " C=  0.1\n",
      "0.6982758620689655 0.696969696969697 0.6987951807228916\n",
      "0.7304347826086957 0.74 0.7230769230769231\n",
      "0.808695652173913 0.6904761904761905 0.8767123287671232\n",
      "0.7217391304347827 0.675 0.7466666666666667\n",
      "0.7478260869565218 0.8055555555555556 0.7215189873417721\n",
      "_________________________________\n",
      "Accuracy: 0.7413943028485758 +/- 0.037246412685227374\n",
      "Sensitivity: 0.7216002886002885 +/- 0.0471889789142856\n",
      "Specificity: 0.7533540173150752 +/- 0.06351193884962873 \n",
      "\n",
      "\n",
      " C=  1\n",
      "0.6810344827586207 0.6666666666666666 0.6867469879518072\n",
      "0.7391304347826086 0.74 0.7384615384615385\n",
      "0.808695652173913 0.6904761904761905 0.8767123287671232\n",
      "0.7304347826086957 0.7 0.7466666666666667\n",
      "0.7478260869565218 0.8055555555555556 0.7215189873417721\n",
      "_________________________________\n",
      "Accuracy: 0.7414242878560721 +/- 0.04083963524841799\n",
      "Sensitivity: 0.7205396825396825 +/- 0.048650583909022514\n",
      "Specificity: 0.7540213018377815 +/- 0.0647016518185238 \n",
      "\n",
      "\n",
      " C=  10\n",
      "0.6810344827586207 0.6666666666666666 0.6867469879518072\n",
      "0.7391304347826086 0.74 0.7384615384615385\n",
      "0.808695652173913 0.6904761904761905 0.8767123287671232\n",
      "0.7304347826086957 0.7 0.7466666666666667\n",
      "0.7478260869565218 0.8055555555555556 0.7215189873417721\n",
      "_________________________________\n",
      "Accuracy: 0.7414242878560721 +/- 0.04083963524841799\n",
      "Sensitivity: 0.7205396825396825 +/- 0.048650583909022514\n",
      "Specificity: 0.7540213018377815 +/- 0.0647016518185238 \n",
      "\n",
      "\n",
      " C=  100\n",
      "0.6810344827586207 0.6666666666666666 0.6867469879518072\n",
      "0.7391304347826086 0.74 0.7384615384615385\n",
      "0.808695652173913 0.6904761904761905 0.8767123287671232\n",
      "0.7304347826086957 0.7 0.7466666666666667\n",
      "0.7478260869565218 0.8055555555555556 0.7215189873417721\n",
      "_________________________________\n",
      "Accuracy: 0.7414242878560721 +/- 0.04083963524841799\n",
      "Sensitivity: 0.7205396825396825 +/- 0.048650583909022514\n",
      "Specificity: 0.7540213018377815 +/- 0.0647016518185238 \n",
      "\n"
     ]
    }
   ],
   "source": [
    "# Logistic Regression\n",
    "\n",
    "C_param_range = [0.001,0.01,0.1,1,10,100]\n",
    "\n",
    "for i in C_param_range:\n",
    "    LR_model = LogisticRegression(random_state=0, C=i, class_weight='balanced')\n",
    "    print(\"\\n C= \", i)\n",
    "    \n",
    "    acc=[]\n",
    "    sen=[]\n",
    "    spe=[]\n",
    "    kf = KFold(n_splits=5, random_state= 123)\n",
    "    kf.get_n_splits(X_train)\n",
    "\n",
    "    for train_index, test_index in kf.split(X_train):\n",
    "        Features_train, Features_test = X_train[train_index], X_train[test_index]\n",
    "        Labels_train, Labels_test = y_train[train_index], y_train[test_index]\n",
    "\n",
    "        LR_model.fit(Features_train, Labels_train)\n",
    "        cm = confusion_matrix(Labels_test, LR_model.predict(Features_test))\n",
    "        tn, fp, fn, tp = confusion_matrix(Labels_test, LR_model.predict(Features_test)).ravel()\n",
    "        sensitivity = tp/(tp+fn)\n",
    "        specificity  = tn/(tn+fp)\n",
    "        accuracy = (tp+tn)/(tp+fp+tn+fn)\n",
    "        acc.append(accuracy)\n",
    "        sen.append(sensitivity)\n",
    "        spe.append(specificity)\n",
    "        \n",
    "        print(accuracy, sensitivity, specificity)\n",
    "      \n",
    "\n",
    "    global_acc = np.mean(acc)\n",
    "    acc_std = np.std(acc)\n",
    "    global_sen = np.mean(sen)\n",
    "    sen_std = np.std(sen)\n",
    "    global_spe = np.mean(spe)\n",
    "    spe_std = np.std(spe)\n",
    "\n",
    "    print(\"_________________________________\")\n",
    "    print('Accuracy:', global_acc, \"+/-\", acc_std)\n",
    "    print('Sensitivity:', global_sen, \"+/-\", sen_std)\n",
    "    print('Specificity:', global_spe, \"+/-\", spe_std, \"\\n\")"
   ]
  },
  {
   "cell_type": "markdown",
   "metadata": {},
   "source": [
    "### 2. Test final model with unseen data"
   ]
  },
  {
   "cell_type": "code",
   "execution_count": 79,
   "metadata": {},
   "outputs": [
    {
     "name": "stdout",
     "output_type": "stream",
     "text": [
      "             precision    recall  f1-score   support\n",
      "\n",
      "          0       0.81      0.89      0.85       125\n",
      "          1       0.75      0.61      0.67        67\n",
      "\n",
      "avg / total       0.79      0.79      0.79       192\n",
      "\n"
     ]
    }
   ],
   "source": [
    "# check how the RF model would perform on the test set\n",
    "print(classification_report(y_test, RF_model.predict(X_test)))"
   ]
  },
  {
   "cell_type": "code",
   "execution_count": 82,
   "metadata": {},
   "outputs": [
    {
     "name": "stdout",
     "output_type": "stream",
     "text": [
      " Sensitivity: 0.8059701492537313 \n",
      " Specificity 0.792 \n",
      " Accuracy: 0.796875\n"
     ]
    }
   ],
   "source": [
    "# Check results of chosen model (Logistic Regression) for unseen data, i.e. data that was not used for model creation\n",
    "cm = confusion_matrix(y_test, LR_model.predict(X_test))\n",
    "tn, fp, fn, tp = confusion_matrix(y_test, LR_model.predict(X_test)).ravel()\n",
    "sensitivity = tp/(tp+fn)\n",
    "specificity  = tn/(tn+fp)\n",
    "accuracy = (tp+tn)/(tp+fp+tn+fn)\n",
    "\n",
    "print(\" Sensitivity:\", sensitivity, \"\\n Specificity\", specificity, \"\\n Accuracy:\", accuracy)"
   ]
  },
  {
   "cell_type": "code",
   "execution_count": 78,
   "metadata": {},
   "outputs": [
    {
     "name": "stdout",
     "output_type": "stream",
     "text": [
      "             precision    recall  f1-score   support\n",
      "\n",
      "          0       0.88      0.79      0.84       125\n",
      "          1       0.68      0.81      0.73        67\n",
      "\n",
      "avg / total       0.81      0.80      0.80       192\n",
      "\n"
     ]
    }
   ],
   "source": [
    "print(classification_report(y_test, LR_model.predict(X_test)))"
   ]
  }
 ],
 "metadata": {
  "kernelspec": {
   "display_name": "Python 3",
   "language": "python",
   "name": "python3"
  },
  "language_info": {
   "codemirror_mode": {
    "name": "ipython",
    "version": 3
   },
   "file_extension": ".py",
   "mimetype": "text/x-python",
   "name": "python",
   "nbconvert_exporter": "python",
   "pygments_lexer": "ipython3",
   "version": "3.6.4"
  }
 },
 "nbformat": 4,
 "nbformat_minor": 2
}
